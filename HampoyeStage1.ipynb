{
  "nbformat": 4,
  "nbformat_minor": 0,
  "metadata": {
    "colab": {
      "name": "HampoyeStage1.ipynb",
      "provenance": []
    },
    "kernelspec": {
      "name": "python3",
      "display_name": "Python 3"
    },
    "language_info": {
      "name": "python"
    }
  },
  "cells": [
    {
      "cell_type": "code",
      "execution_count": 1,
      "metadata": {
        "id": "Q6kuGtGRTPna"
      },
      "outputs": [],
      "source": [
        "S = [['him', 'sell'], [90, 28, 43]]"
      ]
    },
    {
      "cell_type": "code",
      "source": [
        "S[0][1][1]"
      ],
      "metadata": {
        "colab": {
          "base_uri": "https://localhost:8080/",
          "height": 35
        },
        "id": "Rq5rj87qZvYd",
        "outputId": "d64d4a48-ecc4-4172-9914-4d80814edeed"
      },
      "execution_count": 2,
      "outputs": [
        {
          "output_type": "execute_result",
          "data": {
            "application/vnd.google.colaboratory.intrinsic+json": {
              "type": "string"
            },
            "text/plain": [
              "'e'"
            ]
          },
          "metadata": {},
          "execution_count": 2
        }
      ]
    },
    {
      "cell_type": "code",
      "source": [
        "my_tuppy = (1,2,5,8)"
      ],
      "metadata": {
        "id": "cRt1J1nYZzOw"
      },
      "execution_count": 3,
      "outputs": []
    },
    {
      "cell_type": "code",
      "source": [
        "my_tuppy[2] = 6"
      ],
      "metadata": {
        "colab": {
          "base_uri": "https://localhost:8080/",
          "height": 165
        },
        "id": "-7W8XrVMZ4dp",
        "outputId": "38c65c7e-9e89-46ee-9364-d2d73d61faab"
      },
      "execution_count": 4,
      "outputs": [
        {
          "output_type": "error",
          "ename": "TypeError",
          "evalue": "ignored",
          "traceback": [
            "\u001b[0;31m---------------------------------------------------------------------------\u001b[0m",
            "\u001b[0;31mTypeError\u001b[0m                                 Traceback (most recent call last)",
            "\u001b[0;32m<ipython-input-4-e0cfa6830280>\u001b[0m in \u001b[0;36m<module>\u001b[0;34m()\u001b[0m\n\u001b[0;32m----> 1\u001b[0;31m \u001b[0mmy_tuppy\u001b[0m\u001b[0;34m[\u001b[0m\u001b[0;36m2\u001b[0m\u001b[0;34m]\u001b[0m \u001b[0;34m=\u001b[0m \u001b[0;36m6\u001b[0m\u001b[0;34m\u001b[0m\u001b[0;34m\u001b[0m\u001b[0m\n\u001b[0m",
            "\u001b[0;31mTypeError\u001b[0m: 'tuple' object does not support item assignment"
          ]
        }
      ]
    },
    {
      "cell_type": "code",
      "source": [
        "y = [(2, 4), (7, 8), (1, 5, 9)]"
      ],
      "metadata": {
        "id": "Hp_jzGpGZ9QQ"
      },
      "execution_count": 5,
      "outputs": []
    },
    {
      "cell_type": "code",
      "source": [
        "S"
      ],
      "metadata": {
        "colab": {
          "base_uri": "https://localhost:8080/"
        },
        "id": "9JT_62VYaFb0",
        "outputId": "cc1ff44d-7ad4-4b15-f691-7a30e3c362f8"
      },
      "execution_count": 6,
      "outputs": [
        {
          "output_type": "execute_result",
          "data": {
            "text/plain": [
              "[['him', 'sell'], [90, 28, 43]]"
            ]
          },
          "metadata": {},
          "execution_count": 6
        }
      ]
    },
    {
      "cell_type": "code",
      "source": [
        "x=y[1][-2]"
      ],
      "metadata": {
        "id": "gZ9DwGHbaLcX"
      },
      "execution_count": 7,
      "outputs": []
    },
    {
      "cell_type": "code",
      "source": [
        "x"
      ],
      "metadata": {
        "colab": {
          "base_uri": "https://localhost:8080/"
        },
        "id": "DZcobwwAaZAt",
        "outputId": "3d1e4b4f-9209-49ce-f718-b60ef1088867"
      },
      "execution_count": 8,
      "outputs": [
        {
          "output_type": "execute_result",
          "data": {
            "text/plain": [
              "7"
            ]
          },
          "metadata": {},
          "execution_count": 8
        }
      ]
    },
    {
      "cell_type": "code",
      "source": [
        "x=y[1][-1]"
      ],
      "metadata": {
        "id": "DMvsOWjNaaFH"
      },
      "execution_count": 9,
      "outputs": []
    },
    {
      "cell_type": "code",
      "source": [
        "x\n",
        "import pandas as pd"
      ],
      "metadata": {
        "id": "Y2iv44dWafdb"
      },
      "execution_count": 14,
      "outputs": []
    },
    {
      "cell_type": "code",
      "source": [
        "array  = ([[94, 89, 63],\n",
        "\n",
        "             [93, 92, 48],\n",
        "\n",
        "             [92, 94, 56]])"
      ],
      "metadata": {
        "id": "JzrozqYIagcg"
      },
      "execution_count": 17,
      "outputs": []
    },
    {
      "cell_type": "code",
      "source": [
        "url =\"https://github.com/HamoyeHQ/HDSC-Introduction-to-Python-for-machine-learning/files/7768140/FoodBalanceSheets_E_Africa_NOFLAG.csv\""
      ],
      "metadata": {
        "id": "wJx14nnYcU5V"
      },
      "execution_count": 21,
      "outputs": []
    },
    {
      "cell_type": "code",
      "source": [
        "df=\"/content/FoodBalanceSheets_E_Africa_NOFLAG.csv\""
      ],
      "metadata": {
        "id": "5BhHxudne_jo"
      },
      "execution_count": 27,
      "outputs": []
    },
    {
      "cell_type": "code",
      "source": [
        "import chardet\n",
        "with open(df, 'rb') as rawdata:\n",
        "    result = chardet.detect(rawdata.read(100000))\n",
        "result"
      ],
      "metadata": {
        "colab": {
          "base_uri": "https://localhost:8080/"
        },
        "id": "48G22P0yfWQQ",
        "outputId": "f9a0e250-5237-41aa-816f-65f0ce463b16"
      },
      "execution_count": 28,
      "outputs": [
        {
          "output_type": "execute_result",
          "data": {
            "text/plain": [
              "{'confidence': 1.0, 'encoding': 'ascii', 'language': ''}"
            ]
          },
          "metadata": {},
          "execution_count": 28
        }
      ]
    },
    {
      "cell_type": "code",
      "source": [
        "africanfood=pd.read_csv(df,encoding='ISO-8859-1')\n",
        "africanfood.head()"
      ],
      "metadata": {
        "colab": {
          "base_uri": "https://localhost:8080/",
          "height": 319
        },
        "id": "cbkGCNO2fvQ-",
        "outputId": "534dba9e-a388-4de5-f41d-57cba378371c"
      },
      "execution_count": 31,
      "outputs": [
        {
          "output_type": "execute_result",
          "data": {
            "text/html": [
              "\n",
              "  <div id=\"df-eec133de-d01d-44c2-9662-613af0465bf7\">\n",
              "    <div class=\"colab-df-container\">\n",
              "      <div>\n",
              "<style scoped>\n",
              "    .dataframe tbody tr th:only-of-type {\n",
              "        vertical-align: middle;\n",
              "    }\n",
              "\n",
              "    .dataframe tbody tr th {\n",
              "        vertical-align: top;\n",
              "    }\n",
              "\n",
              "    .dataframe thead th {\n",
              "        text-align: right;\n",
              "    }\n",
              "</style>\n",
              "<table border=\"1\" class=\"dataframe\">\n",
              "  <thead>\n",
              "    <tr style=\"text-align: right;\">\n",
              "      <th></th>\n",
              "      <th>Area Code</th>\n",
              "      <th>Area</th>\n",
              "      <th>Item Code</th>\n",
              "      <th>Item</th>\n",
              "      <th>Element Code</th>\n",
              "      <th>Element</th>\n",
              "      <th>Unit</th>\n",
              "      <th>Y2014</th>\n",
              "      <th>Y2015</th>\n",
              "      <th>Y2016</th>\n",
              "      <th>Y2017</th>\n",
              "      <th>Y2018</th>\n",
              "    </tr>\n",
              "  </thead>\n",
              "  <tbody>\n",
              "    <tr>\n",
              "      <th>0</th>\n",
              "      <td>4</td>\n",
              "      <td>Algeria</td>\n",
              "      <td>2501</td>\n",
              "      <td>Population</td>\n",
              "      <td>511</td>\n",
              "      <td>Total Population - Both sexes</td>\n",
              "      <td>1000 persons</td>\n",
              "      <td>38924.00</td>\n",
              "      <td>39728.00</td>\n",
              "      <td>40551.00</td>\n",
              "      <td>41389.00</td>\n",
              "      <td>42228.00</td>\n",
              "    </tr>\n",
              "    <tr>\n",
              "      <th>1</th>\n",
              "      <td>4</td>\n",
              "      <td>Algeria</td>\n",
              "      <td>2501</td>\n",
              "      <td>Population</td>\n",
              "      <td>5301</td>\n",
              "      <td>Domestic supply quantity</td>\n",
              "      <td>1000 tonnes</td>\n",
              "      <td>0.00</td>\n",
              "      <td>0.00</td>\n",
              "      <td>0.00</td>\n",
              "      <td>0.00</td>\n",
              "      <td>0.00</td>\n",
              "    </tr>\n",
              "    <tr>\n",
              "      <th>2</th>\n",
              "      <td>4</td>\n",
              "      <td>Algeria</td>\n",
              "      <td>2901</td>\n",
              "      <td>Grand Total</td>\n",
              "      <td>664</td>\n",
              "      <td>Food supply (kcal/capita/day)</td>\n",
              "      <td>kcal/capita/day</td>\n",
              "      <td>3377.00</td>\n",
              "      <td>3379.00</td>\n",
              "      <td>3372.00</td>\n",
              "      <td>3341.00</td>\n",
              "      <td>3322.00</td>\n",
              "    </tr>\n",
              "    <tr>\n",
              "      <th>3</th>\n",
              "      <td>4</td>\n",
              "      <td>Algeria</td>\n",
              "      <td>2901</td>\n",
              "      <td>Grand Total</td>\n",
              "      <td>674</td>\n",
              "      <td>Protein supply quantity (g/capita/day)</td>\n",
              "      <td>g/capita/day</td>\n",
              "      <td>94.90</td>\n",
              "      <td>94.35</td>\n",
              "      <td>94.72</td>\n",
              "      <td>92.82</td>\n",
              "      <td>91.83</td>\n",
              "    </tr>\n",
              "    <tr>\n",
              "      <th>4</th>\n",
              "      <td>4</td>\n",
              "      <td>Algeria</td>\n",
              "      <td>2901</td>\n",
              "      <td>Grand Total</td>\n",
              "      <td>684</td>\n",
              "      <td>Fat supply quantity (g/capita/day)</td>\n",
              "      <td>g/capita/day</td>\n",
              "      <td>80.06</td>\n",
              "      <td>79.36</td>\n",
              "      <td>77.40</td>\n",
              "      <td>80.19</td>\n",
              "      <td>77.28</td>\n",
              "    </tr>\n",
              "  </tbody>\n",
              "</table>\n",
              "</div>\n",
              "      <button class=\"colab-df-convert\" onclick=\"convertToInteractive('df-eec133de-d01d-44c2-9662-613af0465bf7')\"\n",
              "              title=\"Convert this dataframe to an interactive table.\"\n",
              "              style=\"display:none;\">\n",
              "        \n",
              "  <svg xmlns=\"http://www.w3.org/2000/svg\" height=\"24px\"viewBox=\"0 0 24 24\"\n",
              "       width=\"24px\">\n",
              "    <path d=\"M0 0h24v24H0V0z\" fill=\"none\"/>\n",
              "    <path d=\"M18.56 5.44l.94 2.06.94-2.06 2.06-.94-2.06-.94-.94-2.06-.94 2.06-2.06.94zm-11 1L8.5 8.5l.94-2.06 2.06-.94-2.06-.94L8.5 2.5l-.94 2.06-2.06.94zm10 10l.94 2.06.94-2.06 2.06-.94-2.06-.94-.94-2.06-.94 2.06-2.06.94z\"/><path d=\"M17.41 7.96l-1.37-1.37c-.4-.4-.92-.59-1.43-.59-.52 0-1.04.2-1.43.59L10.3 9.45l-7.72 7.72c-.78.78-.78 2.05 0 2.83L4 21.41c.39.39.9.59 1.41.59.51 0 1.02-.2 1.41-.59l7.78-7.78 2.81-2.81c.8-.78.8-2.07 0-2.86zM5.41 20L4 18.59l7.72-7.72 1.47 1.35L5.41 20z\"/>\n",
              "  </svg>\n",
              "      </button>\n",
              "      \n",
              "  <style>\n",
              "    .colab-df-container {\n",
              "      display:flex;\n",
              "      flex-wrap:wrap;\n",
              "      gap: 12px;\n",
              "    }\n",
              "\n",
              "    .colab-df-convert {\n",
              "      background-color: #E8F0FE;\n",
              "      border: none;\n",
              "      border-radius: 50%;\n",
              "      cursor: pointer;\n",
              "      display: none;\n",
              "      fill: #1967D2;\n",
              "      height: 32px;\n",
              "      padding: 0 0 0 0;\n",
              "      width: 32px;\n",
              "    }\n",
              "\n",
              "    .colab-df-convert:hover {\n",
              "      background-color: #E2EBFA;\n",
              "      box-shadow: 0px 1px 2px rgba(60, 64, 67, 0.3), 0px 1px 3px 1px rgba(60, 64, 67, 0.15);\n",
              "      fill: #174EA6;\n",
              "    }\n",
              "\n",
              "    [theme=dark] .colab-df-convert {\n",
              "      background-color: #3B4455;\n",
              "      fill: #D2E3FC;\n",
              "    }\n",
              "\n",
              "    [theme=dark] .colab-df-convert:hover {\n",
              "      background-color: #434B5C;\n",
              "      box-shadow: 0px 1px 3px 1px rgba(0, 0, 0, 0.15);\n",
              "      filter: drop-shadow(0px 1px 2px rgba(0, 0, 0, 0.3));\n",
              "      fill: #FFFFFF;\n",
              "    }\n",
              "  </style>\n",
              "\n",
              "      <script>\n",
              "        const buttonEl =\n",
              "          document.querySelector('#df-eec133de-d01d-44c2-9662-613af0465bf7 button.colab-df-convert');\n",
              "        buttonEl.style.display =\n",
              "          google.colab.kernel.accessAllowed ? 'block' : 'none';\n",
              "\n",
              "        async function convertToInteractive(key) {\n",
              "          const element = document.querySelector('#df-eec133de-d01d-44c2-9662-613af0465bf7');\n",
              "          const dataTable =\n",
              "            await google.colab.kernel.invokeFunction('convertToInteractive',\n",
              "                                                     [key], {});\n",
              "          if (!dataTable) return;\n",
              "\n",
              "          const docLinkHtml = 'Like what you see? Visit the ' +\n",
              "            '<a target=\"_blank\" href=https://colab.research.google.com/notebooks/data_table.ipynb>data table notebook</a>'\n",
              "            + ' to learn more about interactive tables.';\n",
              "          element.innerHTML = '';\n",
              "          dataTable['output_type'] = 'display_data';\n",
              "          await google.colab.output.renderOutput(dataTable, element);\n",
              "          const docLink = document.createElement('div');\n",
              "          docLink.innerHTML = docLinkHtml;\n",
              "          element.appendChild(docLink);\n",
              "        }\n",
              "      </script>\n",
              "    </div>\n",
              "  </div>\n",
              "  "
            ],
            "text/plain": [
              "   Area Code     Area  Item Code  ...     Y2016     Y2017     Y2018\n",
              "0          4  Algeria       2501  ...  40551.00  41389.00  42228.00\n",
              "1          4  Algeria       2501  ...      0.00      0.00      0.00\n",
              "2          4  Algeria       2901  ...   3372.00   3341.00   3322.00\n",
              "3          4  Algeria       2901  ...     94.72     92.82     91.83\n",
              "4          4  Algeria       2901  ...     77.40     80.19     77.28\n",
              "\n",
              "[5 rows x 12 columns]"
            ]
          },
          "metadata": {},
          "execution_count": 31
        }
      ]
    },
    {
      "cell_type": "code",
      "source": [
        "africanfood.groupby(['Item']).sum()"
      ],
      "metadata": {
        "colab": {
          "base_uri": "https://localhost:8080/",
          "height": 455
        },
        "id": "B-Uv1pbnggSG",
        "outputId": "a6ed9e87-4bf9-435f-a917-a454795e62a4"
      },
      "execution_count": 32,
      "outputs": [
        {
          "output_type": "execute_result",
          "data": {
            "text/html": [
              "\n",
              "  <div id=\"df-9f388d7a-716a-4605-8cb7-86be553e094c\">\n",
              "    <div class=\"colab-df-container\">\n",
              "      <div>\n",
              "<style scoped>\n",
              "    .dataframe tbody tr th:only-of-type {\n",
              "        vertical-align: middle;\n",
              "    }\n",
              "\n",
              "    .dataframe tbody tr th {\n",
              "        vertical-align: top;\n",
              "    }\n",
              "\n",
              "    .dataframe thead th {\n",
              "        text-align: right;\n",
              "    }\n",
              "</style>\n",
              "<table border=\"1\" class=\"dataframe\">\n",
              "  <thead>\n",
              "    <tr style=\"text-align: right;\">\n",
              "      <th></th>\n",
              "      <th>Area Code</th>\n",
              "      <th>Item Code</th>\n",
              "      <th>Element Code</th>\n",
              "      <th>Y2014</th>\n",
              "      <th>Y2015</th>\n",
              "      <th>Y2016</th>\n",
              "      <th>Y2017</th>\n",
              "      <th>Y2018</th>\n",
              "    </tr>\n",
              "    <tr>\n",
              "      <th>Item</th>\n",
              "      <th></th>\n",
              "      <th></th>\n",
              "      <th></th>\n",
              "      <th></th>\n",
              "      <th></th>\n",
              "      <th></th>\n",
              "      <th></th>\n",
              "      <th></th>\n",
              "    </tr>\n",
              "  </thead>\n",
              "  <tbody>\n",
              "    <tr>\n",
              "      <th>Alcohol, Non-Food</th>\n",
              "      <td>38447</td>\n",
              "      <td>752497</td>\n",
              "      <td>1515090</td>\n",
              "      <td>2403.00</td>\n",
              "      <td>2180.00</td>\n",
              "      <td>2223.00</td>\n",
              "      <td>2348.00</td>\n",
              "      <td>2293.00</td>\n",
              "    </tr>\n",
              "    <tr>\n",
              "      <th>Alcoholic Beverages</th>\n",
              "      <td>75016</td>\n",
              "      <td>1649136</td>\n",
              "      <td>2171381</td>\n",
              "      <td>102410.11</td>\n",
              "      <td>98783.72</td>\n",
              "      <td>96958.75</td>\n",
              "      <td>95581.06</td>\n",
              "      <td>97847.27</td>\n",
              "    </tr>\n",
              "    <tr>\n",
              "      <th>Animal Products</th>\n",
              "      <td>18060</td>\n",
              "      <td>397035</td>\n",
              "      <td>90990</td>\n",
              "      <td>11935.65</td>\n",
              "      <td>11811.73</td>\n",
              "      <td>11661.69</td>\n",
              "      <td>11547.65</td>\n",
              "      <td>11578.61</td>\n",
              "    </tr>\n",
              "    <tr>\n",
              "      <th>Animal fats</th>\n",
              "      <td>85279</td>\n",
              "      <td>1882494</td>\n",
              "      <td>2567303</td>\n",
              "      <td>209460.54</td>\n",
              "      <td>200675.72</td>\n",
              "      <td>183314.22</td>\n",
              "      <td>269617.53</td>\n",
              "      <td>269648.27</td>\n",
              "    </tr>\n",
              "    <tr>\n",
              "      <th>Apples and products</th>\n",
              "      <td>69280</td>\n",
              "      <td>1352989</td>\n",
              "      <td>1920418</td>\n",
              "      <td>9499.23</td>\n",
              "      <td>10559.15</td>\n",
              "      <td>9853.26</td>\n",
              "      <td>10198.90</td>\n",
              "      <td>9640.51</td>\n",
              "    </tr>\n",
              "    <tr>\n",
              "      <th>...</th>\n",
              "      <td>...</td>\n",
              "      <td>...</td>\n",
              "      <td>...</td>\n",
              "      <td>...</td>\n",
              "      <td>...</td>\n",
              "      <td>...</td>\n",
              "      <td>...</td>\n",
              "      <td>...</td>\n",
              "    </tr>\n",
              "    <tr>\n",
              "      <th>Vegetables, Other</th>\n",
              "      <td>77779</td>\n",
              "      <td>1518715</td>\n",
              "      <td>2275409</td>\n",
              "      <td>155038.96</td>\n",
              "      <td>158104.08</td>\n",
              "      <td>156218.90</td>\n",
              "      <td>157752.59</td>\n",
              "      <td>163987.21</td>\n",
              "    </tr>\n",
              "    <tr>\n",
              "      <th>Vegetal Products</th>\n",
              "      <td>18060</td>\n",
              "      <td>391905</td>\n",
              "      <td>90990</td>\n",
              "      <td>107145.19</td>\n",
              "      <td>107064.17</td>\n",
              "      <td>106792.72</td>\n",
              "      <td>107655.20</td>\n",
              "      <td>107775.39</td>\n",
              "    </tr>\n",
              "    <tr>\n",
              "      <th>Wheat and products</th>\n",
              "      <td>87073</td>\n",
              "      <td>1639683</td>\n",
              "      <td>2654934</td>\n",
              "      <td>232670.13</td>\n",
              "      <td>234710.51</td>\n",
              "      <td>239377.07</td>\n",
              "      <td>240047.62</td>\n",
              "      <td>242645.19</td>\n",
              "    </tr>\n",
              "    <tr>\n",
              "      <th>Wine</th>\n",
              "      <td>66206</td>\n",
              "      <td>1319535</td>\n",
              "      <td>1818328</td>\n",
              "      <td>4497.36</td>\n",
              "      <td>4251.81</td>\n",
              "      <td>3872.09</td>\n",
              "      <td>4178.02</td>\n",
              "      <td>4039.32</td>\n",
              "    </tr>\n",
              "    <tr>\n",
              "      <th>Yams</th>\n",
              "      <td>50798</td>\n",
              "      <td>970905</td>\n",
              "      <td>1525745</td>\n",
              "      <td>200396.96</td>\n",
              "      <td>203151.78</td>\n",
              "      <td>220626.20</td>\n",
              "      <td>229174.59</td>\n",
              "      <td>221272.09</td>\n",
              "    </tr>\n",
              "  </tbody>\n",
              "</table>\n",
              "<p>119 rows × 8 columns</p>\n",
              "</div>\n",
              "      <button class=\"colab-df-convert\" onclick=\"convertToInteractive('df-9f388d7a-716a-4605-8cb7-86be553e094c')\"\n",
              "              title=\"Convert this dataframe to an interactive table.\"\n",
              "              style=\"display:none;\">\n",
              "        \n",
              "  <svg xmlns=\"http://www.w3.org/2000/svg\" height=\"24px\"viewBox=\"0 0 24 24\"\n",
              "       width=\"24px\">\n",
              "    <path d=\"M0 0h24v24H0V0z\" fill=\"none\"/>\n",
              "    <path d=\"M18.56 5.44l.94 2.06.94-2.06 2.06-.94-2.06-.94-.94-2.06-.94 2.06-2.06.94zm-11 1L8.5 8.5l.94-2.06 2.06-.94-2.06-.94L8.5 2.5l-.94 2.06-2.06.94zm10 10l.94 2.06.94-2.06 2.06-.94-2.06-.94-.94-2.06-.94 2.06-2.06.94z\"/><path d=\"M17.41 7.96l-1.37-1.37c-.4-.4-.92-.59-1.43-.59-.52 0-1.04.2-1.43.59L10.3 9.45l-7.72 7.72c-.78.78-.78 2.05 0 2.83L4 21.41c.39.39.9.59 1.41.59.51 0 1.02-.2 1.41-.59l7.78-7.78 2.81-2.81c.8-.78.8-2.07 0-2.86zM5.41 20L4 18.59l7.72-7.72 1.47 1.35L5.41 20z\"/>\n",
              "  </svg>\n",
              "      </button>\n",
              "      \n",
              "  <style>\n",
              "    .colab-df-container {\n",
              "      display:flex;\n",
              "      flex-wrap:wrap;\n",
              "      gap: 12px;\n",
              "    }\n",
              "\n",
              "    .colab-df-convert {\n",
              "      background-color: #E8F0FE;\n",
              "      border: none;\n",
              "      border-radius: 50%;\n",
              "      cursor: pointer;\n",
              "      display: none;\n",
              "      fill: #1967D2;\n",
              "      height: 32px;\n",
              "      padding: 0 0 0 0;\n",
              "      width: 32px;\n",
              "    }\n",
              "\n",
              "    .colab-df-convert:hover {\n",
              "      background-color: #E2EBFA;\n",
              "      box-shadow: 0px 1px 2px rgba(60, 64, 67, 0.3), 0px 1px 3px 1px rgba(60, 64, 67, 0.15);\n",
              "      fill: #174EA6;\n",
              "    }\n",
              "\n",
              "    [theme=dark] .colab-df-convert {\n",
              "      background-color: #3B4455;\n",
              "      fill: #D2E3FC;\n",
              "    }\n",
              "\n",
              "    [theme=dark] .colab-df-convert:hover {\n",
              "      background-color: #434B5C;\n",
              "      box-shadow: 0px 1px 3px 1px rgba(0, 0, 0, 0.15);\n",
              "      filter: drop-shadow(0px 1px 2px rgba(0, 0, 0, 0.3));\n",
              "      fill: #FFFFFF;\n",
              "    }\n",
              "  </style>\n",
              "\n",
              "      <script>\n",
              "        const buttonEl =\n",
              "          document.querySelector('#df-9f388d7a-716a-4605-8cb7-86be553e094c button.colab-df-convert');\n",
              "        buttonEl.style.display =\n",
              "          google.colab.kernel.accessAllowed ? 'block' : 'none';\n",
              "\n",
              "        async function convertToInteractive(key) {\n",
              "          const element = document.querySelector('#df-9f388d7a-716a-4605-8cb7-86be553e094c');\n",
              "          const dataTable =\n",
              "            await google.colab.kernel.invokeFunction('convertToInteractive',\n",
              "                                                     [key], {});\n",
              "          if (!dataTable) return;\n",
              "\n",
              "          const docLinkHtml = 'Like what you see? Visit the ' +\n",
              "            '<a target=\"_blank\" href=https://colab.research.google.com/notebooks/data_table.ipynb>data table notebook</a>'\n",
              "            + ' to learn more about interactive tables.';\n",
              "          element.innerHTML = '';\n",
              "          dataTable['output_type'] = 'display_data';\n",
              "          await google.colab.output.renderOutput(dataTable, element);\n",
              "          const docLink = document.createElement('div');\n",
              "          docLink.innerHTML = docLinkHtml;\n",
              "          element.appendChild(docLink);\n",
              "        }\n",
              "      </script>\n",
              "    </div>\n",
              "  </div>\n",
              "  "
            ],
            "text/plain": [
              "                     Area Code  Item Code  ...      Y2017      Y2018\n",
              "Item                                       ...                      \n",
              "Alcohol, Non-Food        38447     752497  ...    2348.00    2293.00\n",
              "Alcoholic Beverages      75016    1649136  ...   95581.06   97847.27\n",
              "Animal Products          18060     397035  ...   11547.65   11578.61\n",
              "Animal fats              85279    1882494  ...  269617.53  269648.27\n",
              "Apples and products      69280    1352989  ...   10198.90    9640.51\n",
              "...                        ...        ...  ...        ...        ...\n",
              "Vegetables, Other        77779    1518715  ...  157752.59  163987.21\n",
              "Vegetal Products         18060     391905  ...  107655.20  107775.39\n",
              "Wheat and products       87073    1639683  ...  240047.62  242645.19\n",
              "Wine                     66206    1319535  ...    4178.02    4039.32\n",
              "Yams                     50798     970905  ...  229174.59  221272.09\n",
              "\n",
              "[119 rows x 8 columns]"
            ]
          },
          "metadata": {},
          "execution_count": 32
        }
      ]
    },
    {
      "cell_type": "code",
      "source": [
        "africanfood.mean(axis=0)"
      ],
      "metadata": {
        "colab": {
          "base_uri": "https://localhost:8080/"
        },
        "id": "N3cYQAlshLsx",
        "outputId": "133f24ff-f1df-4153-dad4-fda929d27c5a"
      },
      "execution_count": 33,
      "outputs": [
        {
          "output_type": "execute_result",
          "data": {
            "text/plain": [
              "Area Code        134.265576\n",
              "Item Code       2687.176706\n",
              "Element Code    3814.856456\n",
              "Y2014            134.196282\n",
              "Y2015            135.235966\n",
              "Y2016            136.555222\n",
              "Y2017            140.917765\n",
              "Y2018            143.758381\n",
              "dtype: float64"
            ]
          },
          "metadata": {},
          "execution_count": 33
        }
      ]
    },
    {
      "cell_type": "code",
      "source": [
        "africanfood.isna().sum()"
      ],
      "metadata": {
        "colab": {
          "base_uri": "https://localhost:8080/"
        },
        "id": "qQwU2Wuthvk0",
        "outputId": "bb870b65-92a9-47b6-a379-a66399736be2"
      },
      "execution_count": 34,
      "outputs": [
        {
          "output_type": "execute_result",
          "data": {
            "text/plain": [
              "Area Code          0\n",
              "Area               0\n",
              "Item Code          0\n",
              "Item               0\n",
              "Element Code       0\n",
              "Element            0\n",
              "Unit               0\n",
              "Y2014           1589\n",
              "Y2015           1548\n",
              "Y2016           1535\n",
              "Y2017           1506\n",
              "Y2018           1436\n",
              "dtype: int64"
            ]
          },
          "metadata": {},
          "execution_count": 34
        }
      ]
    },
    {
      "cell_type": "code",
      "source": [
        "africanfood.groupby('Element').sum()"
      ],
      "metadata": {
        "colab": {
          "base_uri": "https://localhost:8080/",
          "height": 645
        },
        "id": "TiVFIZhLiGy7",
        "outputId": "5013c996-0826-4be0-fd0e-0c9486b59ce1"
      },
      "execution_count": 36,
      "outputs": [
        {
          "output_type": "execute_result",
          "data": {
            "text/html": [
              "\n",
              "  <div id=\"df-498219c9-4004-45dd-9c78-2ed53e273ca5\">\n",
              "    <div class=\"colab-df-container\">\n",
              "      <div>\n",
              "<style scoped>\n",
              "    .dataframe tbody tr th:only-of-type {\n",
              "        vertical-align: middle;\n",
              "    }\n",
              "\n",
              "    .dataframe tbody tr th {\n",
              "        vertical-align: top;\n",
              "    }\n",
              "\n",
              "    .dataframe thead th {\n",
              "        text-align: right;\n",
              "    }\n",
              "</style>\n",
              "<table border=\"1\" class=\"dataframe\">\n",
              "  <thead>\n",
              "    <tr style=\"text-align: right;\">\n",
              "      <th></th>\n",
              "      <th>Area Code</th>\n",
              "      <th>Item Code</th>\n",
              "      <th>Element Code</th>\n",
              "      <th>Y2014</th>\n",
              "      <th>Y2015</th>\n",
              "      <th>Y2016</th>\n",
              "      <th>Y2017</th>\n",
              "      <th>Y2018</th>\n",
              "    </tr>\n",
              "    <tr>\n",
              "      <th>Element</th>\n",
              "      <th></th>\n",
              "      <th></th>\n",
              "      <th></th>\n",
              "      <th></th>\n",
              "      <th></th>\n",
              "      <th></th>\n",
              "      <th></th>\n",
              "      <th></th>\n",
              "    </tr>\n",
              "  </thead>\n",
              "  <tbody>\n",
              "    <tr>\n",
              "      <th>Domestic supply quantity</th>\n",
              "      <td>708993</td>\n",
              "      <td>14197445</td>\n",
              "      <td>28068795</td>\n",
              "      <td>1996716.35</td>\n",
              "      <td>2021493.55</td>\n",
              "      <td>2044842.70</td>\n",
              "      <td>2088198.10</td>\n",
              "      <td>2161192.10</td>\n",
              "    </tr>\n",
              "    <tr>\n",
              "      <th>Export Quantity</th>\n",
              "      <td>599910</td>\n",
              "      <td>11840553</td>\n",
              "      <td>26026133</td>\n",
              "      <td>150020.64</td>\n",
              "      <td>157614.47</td>\n",
              "      <td>151920.46</td>\n",
              "      <td>182338.80</td>\n",
              "      <td>181594.80</td>\n",
              "    </tr>\n",
              "    <tr>\n",
              "      <th>Fat supply quantity (g/capita/day)</th>\n",
              "      <td>675050</td>\n",
              "      <td>13535000</td>\n",
              "      <td>3435732</td>\n",
              "      <td>10225.56</td>\n",
              "      <td>10235.74</td>\n",
              "      <td>10102.77</td>\n",
              "      <td>10253.84</td>\n",
              "      <td>10258.69</td>\n",
              "    </tr>\n",
              "    <tr>\n",
              "      <th>Feed</th>\n",
              "      <td>176272</td>\n",
              "      <td>3538507</td>\n",
              "      <td>7282199</td>\n",
              "      <td>216927.89</td>\n",
              "      <td>225050.22</td>\n",
              "      <td>228958.65</td>\n",
              "      <td>223705.68</td>\n",
              "      <td>233489.68</td>\n",
              "    </tr>\n",
              "    <tr>\n",
              "      <th>Food</th>\n",
              "      <td>663295</td>\n",
              "      <td>13285035</td>\n",
              "      <td>25406622</td>\n",
              "      <td>1212332.49</td>\n",
              "      <td>1232361.10</td>\n",
              "      <td>1247022.17</td>\n",
              "      <td>1258888.28</td>\n",
              "      <td>1303841.28</td>\n",
              "    </tr>\n",
              "    <tr>\n",
              "      <th>Food supply (kcal/capita/day)</th>\n",
              "      <td>674057</td>\n",
              "      <td>13511060</td>\n",
              "      <td>3329296</td>\n",
              "      <td>454257.00</td>\n",
              "      <td>453383.00</td>\n",
              "      <td>451810.00</td>\n",
              "      <td>454681.00</td>\n",
              "      <td>455261.00</td>\n",
              "    </tr>\n",
              "    <tr>\n",
              "      <th>Food supply quantity (kg/capita/yr)</th>\n",
              "      <td>658446</td>\n",
              "      <td>13185401</td>\n",
              "      <td>3163725</td>\n",
              "      <td>49650.63</td>\n",
              "      <td>49345.13</td>\n",
              "      <td>48985.28</td>\n",
              "      <td>48690.04</td>\n",
              "      <td>49056.85</td>\n",
              "    </tr>\n",
              "    <tr>\n",
              "      <th>Import Quantity</th>\n",
              "      <td>688174</td>\n",
              "      <td>13795966</td>\n",
              "      <td>28834929</td>\n",
              "      <td>274144.48</td>\n",
              "      <td>267018.46</td>\n",
              "      <td>286582.78</td>\n",
              "      <td>294559.09</td>\n",
              "      <td>287997.09</td>\n",
              "    </tr>\n",
              "    <tr>\n",
              "      <th>Losses</th>\n",
              "      <td>274353</td>\n",
              "      <td>5424803</td>\n",
              "      <td>10292107</td>\n",
              "      <td>153223.00</td>\n",
              "      <td>155439.00</td>\n",
              "      <td>157787.00</td>\n",
              "      <td>160614.00</td>\n",
              "      <td>163902.00</td>\n",
              "    </tr>\n",
              "    <tr>\n",
              "      <th>Other uses (non-food)</th>\n",
              "      <td>235554</td>\n",
              "      <td>4729749</td>\n",
              "      <td>8926728</td>\n",
              "      <td>78718.13</td>\n",
              "      <td>66254.41</td>\n",
              "      <td>69563.68</td>\n",
              "      <td>91645.97</td>\n",
              "      <td>91300.97</td>\n",
              "    </tr>\n",
              "    <tr>\n",
              "      <th>Processing</th>\n",
              "      <td>271940</td>\n",
              "      <td>5350416</td>\n",
              "      <td>10313310</td>\n",
              "      <td>282923.00</td>\n",
              "      <td>287929.00</td>\n",
              "      <td>280631.00</td>\n",
              "      <td>292836.00</td>\n",
              "      <td>308429.00</td>\n",
              "    </tr>\n",
              "    <tr>\n",
              "      <th>Production</th>\n",
              "      <td>526751</td>\n",
              "      <td>10450053</td>\n",
              "      <td>21388191</td>\n",
              "      <td>1931287.75</td>\n",
              "      <td>1947019.39</td>\n",
              "      <td>1943537.15</td>\n",
              "      <td>2030056.89</td>\n",
              "      <td>2075072.89</td>\n",
              "    </tr>\n",
              "    <tr>\n",
              "      <th>Protein supply quantity (g/capita/day)</th>\n",
              "      <td>675050</td>\n",
              "      <td>13535000</td>\n",
              "      <td>3385502</td>\n",
              "      <td>11836.46</td>\n",
              "      <td>11833.95</td>\n",
              "      <td>11779.69</td>\n",
              "      <td>11842.45</td>\n",
              "      <td>11833.56</td>\n",
              "    </tr>\n",
              "    <tr>\n",
              "      <th>Residuals</th>\n",
              "      <td>623271</td>\n",
              "      <td>12421089</td>\n",
              "      <td>24066350</td>\n",
              "      <td>30149.00</td>\n",
              "      <td>30045.00</td>\n",
              "      <td>37224.00</td>\n",
              "      <td>35500.00</td>\n",
              "      <td>34864.00</td>\n",
              "    </tr>\n",
              "    <tr>\n",
              "      <th>Seed</th>\n",
              "      <td>103537</td>\n",
              "      <td>2035933</td>\n",
              "      <td>4211574</td>\n",
              "      <td>21922.92</td>\n",
              "      <td>23976.82</td>\n",
              "      <td>23389.20</td>\n",
              "      <td>24870.14</td>\n",
              "      <td>25263.14</td>\n",
              "    </tr>\n",
              "    <tr>\n",
              "      <th>Stock Variation</th>\n",
              "      <td>571566</td>\n",
              "      <td>11329527</td>\n",
              "      <td>21464704</td>\n",
              "      <td>58749.83</td>\n",
              "      <td>34910.99</td>\n",
              "      <td>33140.12</td>\n",
              "      <td>54316.91</td>\n",
              "      <td>20577.91</td>\n",
              "    </tr>\n",
              "    <tr>\n",
              "      <th>Total Population - Both sexes</th>\n",
              "      <td>6020</td>\n",
              "      <td>112545</td>\n",
              "      <td>22995</td>\n",
              "      <td>1031585.00</td>\n",
              "      <td>1058081.00</td>\n",
              "      <td>1085107.00</td>\n",
              "      <td>1112641.00</td>\n",
              "      <td>1140605.00</td>\n",
              "    </tr>\n",
              "    <tr>\n",
              "      <th>Tourist consumption</th>\n",
              "      <td>50308</td>\n",
              "      <td>1486528</td>\n",
              "      <td>2869905</td>\n",
              "      <td>416.00</td>\n",
              "      <td>349.00</td>\n",
              "      <td>89.00</td>\n",
              "      <td>91.00</td>\n",
              "      <td>90.00</td>\n",
              "    </tr>\n",
              "  </tbody>\n",
              "</table>\n",
              "</div>\n",
              "      <button class=\"colab-df-convert\" onclick=\"convertToInteractive('df-498219c9-4004-45dd-9c78-2ed53e273ca5')\"\n",
              "              title=\"Convert this dataframe to an interactive table.\"\n",
              "              style=\"display:none;\">\n",
              "        \n",
              "  <svg xmlns=\"http://www.w3.org/2000/svg\" height=\"24px\"viewBox=\"0 0 24 24\"\n",
              "       width=\"24px\">\n",
              "    <path d=\"M0 0h24v24H0V0z\" fill=\"none\"/>\n",
              "    <path d=\"M18.56 5.44l.94 2.06.94-2.06 2.06-.94-2.06-.94-.94-2.06-.94 2.06-2.06.94zm-11 1L8.5 8.5l.94-2.06 2.06-.94-2.06-.94L8.5 2.5l-.94 2.06-2.06.94zm10 10l.94 2.06.94-2.06 2.06-.94-2.06-.94-.94-2.06-.94 2.06-2.06.94z\"/><path d=\"M17.41 7.96l-1.37-1.37c-.4-.4-.92-.59-1.43-.59-.52 0-1.04.2-1.43.59L10.3 9.45l-7.72 7.72c-.78.78-.78 2.05 0 2.83L4 21.41c.39.39.9.59 1.41.59.51 0 1.02-.2 1.41-.59l7.78-7.78 2.81-2.81c.8-.78.8-2.07 0-2.86zM5.41 20L4 18.59l7.72-7.72 1.47 1.35L5.41 20z\"/>\n",
              "  </svg>\n",
              "      </button>\n",
              "      \n",
              "  <style>\n",
              "    .colab-df-container {\n",
              "      display:flex;\n",
              "      flex-wrap:wrap;\n",
              "      gap: 12px;\n",
              "    }\n",
              "\n",
              "    .colab-df-convert {\n",
              "      background-color: #E8F0FE;\n",
              "      border: none;\n",
              "      border-radius: 50%;\n",
              "      cursor: pointer;\n",
              "      display: none;\n",
              "      fill: #1967D2;\n",
              "      height: 32px;\n",
              "      padding: 0 0 0 0;\n",
              "      width: 32px;\n",
              "    }\n",
              "\n",
              "    .colab-df-convert:hover {\n",
              "      background-color: #E2EBFA;\n",
              "      box-shadow: 0px 1px 2px rgba(60, 64, 67, 0.3), 0px 1px 3px 1px rgba(60, 64, 67, 0.15);\n",
              "      fill: #174EA6;\n",
              "    }\n",
              "\n",
              "    [theme=dark] .colab-df-convert {\n",
              "      background-color: #3B4455;\n",
              "      fill: #D2E3FC;\n",
              "    }\n",
              "\n",
              "    [theme=dark] .colab-df-convert:hover {\n",
              "      background-color: #434B5C;\n",
              "      box-shadow: 0px 1px 3px 1px rgba(0, 0, 0, 0.15);\n",
              "      filter: drop-shadow(0px 1px 2px rgba(0, 0, 0, 0.3));\n",
              "      fill: #FFFFFF;\n",
              "    }\n",
              "  </style>\n",
              "\n",
              "      <script>\n",
              "        const buttonEl =\n",
              "          document.querySelector('#df-498219c9-4004-45dd-9c78-2ed53e273ca5 button.colab-df-convert');\n",
              "        buttonEl.style.display =\n",
              "          google.colab.kernel.accessAllowed ? 'block' : 'none';\n",
              "\n",
              "        async function convertToInteractive(key) {\n",
              "          const element = document.querySelector('#df-498219c9-4004-45dd-9c78-2ed53e273ca5');\n",
              "          const dataTable =\n",
              "            await google.colab.kernel.invokeFunction('convertToInteractive',\n",
              "                                                     [key], {});\n",
              "          if (!dataTable) return;\n",
              "\n",
              "          const docLinkHtml = 'Like what you see? Visit the ' +\n",
              "            '<a target=\"_blank\" href=https://colab.research.google.com/notebooks/data_table.ipynb>data table notebook</a>'\n",
              "            + ' to learn more about interactive tables.';\n",
              "          element.innerHTML = '';\n",
              "          dataTable['output_type'] = 'display_data';\n",
              "          await google.colab.output.renderOutput(dataTable, element);\n",
              "          const docLink = document.createElement('div');\n",
              "          docLink.innerHTML = docLinkHtml;\n",
              "          element.appendChild(docLink);\n",
              "        }\n",
              "      </script>\n",
              "    </div>\n",
              "  </div>\n",
              "  "
            ],
            "text/plain": [
              "                                        Area Code  ...       Y2018\n",
              "Element                                            ...            \n",
              "Domestic supply quantity                   708993  ...  2161192.10\n",
              "Export Quantity                            599910  ...   181594.80\n",
              "Fat supply quantity (g/capita/day)         675050  ...    10258.69\n",
              "Feed                                       176272  ...   233489.68\n",
              "Food                                       663295  ...  1303841.28\n",
              "Food supply (kcal/capita/day)              674057  ...   455261.00\n",
              "Food supply quantity (kg/capita/yr)        658446  ...    49056.85\n",
              "Import Quantity                            688174  ...   287997.09\n",
              "Losses                                     274353  ...   163902.00\n",
              "Other uses (non-food)                      235554  ...    91300.97\n",
              "Processing                                 271940  ...   308429.00\n",
              "Production                                 526751  ...  2075072.89\n",
              "Protein supply quantity (g/capita/day)     675050  ...    11833.56\n",
              "Residuals                                  623271  ...    34864.00\n",
              "Seed                                       103537  ...    25263.14\n",
              "Stock Variation                            571566  ...    20577.91\n",
              "Total Population - Both sexes                6020  ...  1140605.00\n",
              "Tourist consumption                         50308  ...       90.00\n",
              "\n",
              "[18 rows x 8 columns]"
            ]
          },
          "metadata": {},
          "execution_count": 36
        }
      ]
    },
    {
      "cell_type": "code",
      "source": [
        "africanfood.Area.unique()"
      ],
      "metadata": {
        "colab": {
          "base_uri": "https://localhost:8080/"
        },
        "id": "VUBw2JnGjAbG",
        "outputId": "f83fc9c7-485e-4610-ffdb-9b8a5f17454d"
      },
      "execution_count": 38,
      "outputs": [
        {
          "output_type": "execute_result",
          "data": {
            "text/plain": [
              "array(['Algeria', 'Angola', 'Benin', 'Botswana', 'Burkina Faso',\n",
              "       'Cabo Verde', 'Cameroon', 'Central African Republic', 'Chad',\n",
              "       'Comoros', 'Congo', \"Côte d'Ivoire\", 'Djibouti', 'Egypt',\n",
              "       'Eswatini', 'Ethiopia', 'Ethiopia PDR', 'Gabon', 'Gambia', 'Ghana',\n",
              "       'Guinea', 'Guinea-Bissau', 'Kenya', 'Lesotho', 'Liberia',\n",
              "       'Madagascar', 'Malawi', 'Mali', 'Mauritania', 'Mauritius',\n",
              "       'Morocco', 'Mozambique', 'Namibia', 'Niger', 'Nigeria', 'Rwanda',\n",
              "       'Sao Tome and Principe', 'Senegal', 'Seychelles', 'Sierra Leone',\n",
              "       'South Africa', 'Sudan', 'Sudan (former)', 'Togo', 'Tunisia',\n",
              "       'Uganda', 'United Republic of Tanzania', 'Zambia', 'Zimbabwe'],\n",
              "      dtype=object)"
            ]
          },
          "metadata": {},
          "execution_count": 38
        }
      ]
    },
    {
      "cell_type": "code",
      "source": [
        ""
      ],
      "metadata": {
        "id": "hDLvW9aslPHI"
      },
      "execution_count": null,
      "outputs": []
    }
  ]
}